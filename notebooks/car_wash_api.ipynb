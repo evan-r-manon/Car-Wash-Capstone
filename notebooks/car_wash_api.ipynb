{
 "cells": [
  {
   "cell_type": "code",
   "execution_count": null,
   "metadata": {},
   "outputs": [],
   "source": [
    "import pandas as pd\n",
    "import requests\n",
    "import matplotlib.pyplot as plt\n",
    "from IPython.display import Image\n",
    "import folium\n",
    "import json\n",
    "import time\n",
    "\n",
    "%matplotlib inline"
   ]
  },
  {
   "cell_type": "code",
   "execution_count": null,
   "metadata": {},
   "outputs": [],
   "source": [
    "api_key = ''"
   ]
  },
  {
   "cell_type": "code",
   "execution_count": null,
   "metadata": {},
   "outputs": [],
   "source": [
    "endpoint = 'https://maps.googleapis.com/maps/api/place/nearbysearch/json'"
   ]
  },
  {
   "cell_type": "code",
   "execution_count": null,
   "metadata": {},
   "outputs": [],
   "source": [
    "params = {\n",
    "    'key': api_key, \n",
    "    'location': '36.186836,-86.8253295', \n",
    "    'radius': 50000,\n",
    "    'type': 'car_wash'\n",
    "}"
   ]
  },
  {
   "cell_type": "code",
   "execution_count": null,
   "metadata": {},
   "outputs": [],
   "source": [
    "response = requests.get(endpoint, params = params)\n",
    "response"
   ]
  },
  {
   "cell_type": "code",
   "execution_count": null,
   "metadata": {},
   "outputs": [],
   "source": [
    "response.url"
   ]
  },
  {
   "cell_type": "code",
   "execution_count": null,
   "metadata": {
    "scrolled": true
   },
   "outputs": [],
   "source": [
    "res = response.json()\n",
    "res"
   ]
  },
  {
   "cell_type": "code",
   "execution_count": null,
   "metadata": {},
   "outputs": [],
   "source": [
    "def find_car_washes(businesses_list):\n",
    "    car_washes = []\n",
    "    for cars in businesses_list:\n",
    "        add_to_list = True\n",
    "        types = cars['types']\n",
    "        for t in types:\n",
    "            if t not in ['car_wash', 'point_of_interest', 'establishment']:\n",
    "                add_to_list = False\n",
    "                break\n",
    "        if add_to_list == True:\n",
    "            car_washes.append(cars)\n",
    "    return car_washes\n",
    "\n",
    "def business_final(res):\n",
    "    name_list = []\n",
    "    lat_list = []\n",
    "    lng_list = []\n",
    "    total_business_info = find_car_washes(res)\n",
    "    for business_data in total_business_info:\n",
    "        business_name = business_data['name'] \n",
    "        business_lat = business_data['geometry']['location']['lat']\n",
    "        business_lng = business_data['geometry']['location']['lng']\n",
    "        name_list.append(business_name)\n",
    "        lat_list.append(business_lat)\n",
    "        lng_list.append(business_lng)\n",
    "    return name_list, lat_list, lng_list"
   ]
  },
  {
   "cell_type": "code",
   "execution_count": null,
   "metadata": {},
   "outputs": [],
   "source": [
    "name_list, lat_list, lng_list = business_final()\n",
    "\n",
    "df = pd.DataFrame(list(zip(name_list, lat_list, lng_list)), \n",
    "               columns =['company', 'lat', 'lng'])\n",
    "df"
   ]
  },
  {
   "cell_type": "code",
   "execution_count": null,
   "metadata": {},
   "outputs": [],
   "source": [
    "df.shape"
   ]
  },
  {
   "cell_type": "code",
   "execution_count": null,
   "metadata": {},
   "outputs": [],
   "source": [
    "\"next_page_token\" in res"
   ]
  },
  {
   "cell_type": "code",
   "execution_count": null,
   "metadata": {},
   "outputs": [],
   "source": [
    "params['pagetoken'] = res['next_page_token']\n",
    "print(params)"
   ]
  },
  {
   "cell_type": "code",
   "execution_count": null,
   "metadata": {},
   "outputs": [],
   "source": [
    "res2 = requests.get(endpoint, params = params)"
   ]
  },
  {
   "cell_type": "code",
   "execution_count": null,
   "metadata": {},
   "outputs": [],
   "source": [
    "name_list, lat_list, lng_list = business_final(res2.json())\n",
    "\n",
    "df2 = pd.DataFrame(list(zip(name_list, lat_list, lng_list)), \n",
    "               columns =['company', 'lat', 'lng'])\n",
    "df2"
   ]
  },
  {
   "cell_type": "code",
   "execution_count": null,
   "metadata": {},
   "outputs": [],
   "source": [
    "res2.json()"
   ]
  },
  {
   "cell_type": "code",
   "execution_count": null,
   "metadata": {},
   "outputs": [],
   "source": [
    "places = []\n",
    "\n",
    "params = {\n",
    "    'key': api_key, \n",
    "    'location': '36.186836,-86.8253295', \n",
    "    'radius': 50000,\n",
    "    'type': 'car_wash'\n",
    "}\n",
    "\n",
    "response = requests.get(endpoint, params = params)\n",
    "res = response.json()\n",
    "\n",
    "places.extend(res['results'])\n",
    "print(res['next_page_token'])\n",
    "print(params)\n",
    "time.sleep(2)\n",
    "while \"next_page_token\" in res:\n",
    "    params['pagetoken'] = res['next_page_token']\n",
    "    print(params, endpoint)\n",
    "    results = requests.get(endpoint, params = params)\n",
    "    print(results.url)\n",
    "    res = results.json()\n",
    "    places.extend(res['results'])\n",
    "    time.sleep(2)\n",
    "    \n",
    "name_list, lat_list, lng_list = business_final(places)\n",
    "\n",
    "df4 = pd.DataFrame(list(zip(name_list, lat_list, lng_list)), \n",
    "               columns =['company', 'lat', 'lng'])\n",
    "df4"
   ]
  },
  {
   "cell_type": "code",
   "execution_count": null,
   "metadata": {},
   "outputs": [],
   "source": [
    "test = requests.get(endpoint, params = params)"
   ]
  },
  {
   "cell_type": "code",
   "execution_count": null,
   "metadata": {},
   "outputs": [],
   "source": [
    "test.json()['next_page_token']"
   ]
  },
  {
   "cell_type": "code",
   "execution_count": null,
   "metadata": {},
   "outputs": [],
   "source": [
    "print(params)"
   ]
  },
  {
   "cell_type": "code",
   "execution_count": null,
   "metadata": {},
   "outputs": [],
   "source": [
    "len(places)"
   ]
  },
  {
   "cell_type": "code",
   "execution_count": null,
   "metadata": {},
   "outputs": [],
   "source": [
    "res"
   ]
  },
  {
   "cell_type": "code",
   "execution_count": null,
   "metadata": {},
   "outputs": [],
   "source": [
    "name_list, lat_list, lng_list = business_final(res)\n",
    "\n",
    "df3 = pd.DataFrame(list(zip(name_list, lat_list, lng_list)), \n",
    "               columns =['company', 'lat', 'lng'])\n",
    "df3"
   ]
  },
  {
   "cell_type": "code",
   "execution_count": null,
   "metadata": {},
   "outputs": [],
   "source": []
  }
 ],
 "metadata": {
  "kernelspec": {
   "display_name": "Python 3",
   "language": "python",
   "name": "python3"
  },
  "language_info": {
   "codemirror_mode": {
    "name": "ipython",
    "version": 3
   },
   "file_extension": ".py",
   "mimetype": "text/x-python",
   "name": "python",
   "nbconvert_exporter": "python",
   "pygments_lexer": "ipython3",
   "version": "3.8.3"
  }
 },
 "nbformat": 4,
 "nbformat_minor": 4
}
