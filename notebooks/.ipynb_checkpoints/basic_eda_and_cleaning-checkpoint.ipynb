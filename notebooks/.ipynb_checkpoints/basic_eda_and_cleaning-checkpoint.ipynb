{
 "cells": [
  {
   "cell_type": "code",
   "execution_count": 1,
   "metadata": {},
   "outputs": [],
   "source": [
    "import pandas as pd\n",
    "import matplotlib.pyplot as plt\n",
    "import numpy as np\n",
    "%matplotlib inline \n",
    "from shapely.geometry import Point\n",
    "import pandas as pd\n",
    "import geopandas as gpd\n",
    "import matplotlib.pyplot as plt\n",
    "import folium\n",
    "from folium.plugins import MarkerCluster\n",
    "from folium.plugins import FastMarkerCluster"
   ]
  },
  {
   "cell_type": "markdown",
   "metadata": {},
   "source": [
    "# Reading in Population by County - 2020"
   ]
  },
  {
   "cell_type": "code",
   "execution_count": 2,
   "metadata": {},
   "outputs": [
    {
     "data": {
      "text/html": [
       "<div>\n",
       "<style scoped>\n",
       "    .dataframe tbody tr th:only-of-type {\n",
       "        vertical-align: middle;\n",
       "    }\n",
       "\n",
       "    .dataframe tbody tr th {\n",
       "        vertical-align: top;\n",
       "    }\n",
       "\n",
       "    .dataframe thead th {\n",
       "        text-align: right;\n",
       "    }\n",
       "</style>\n",
       "<table border=\"1\" class=\"dataframe\">\n",
       "  <thead>\n",
       "    <tr style=\"text-align: right;\">\n",
       "      <th></th>\n",
       "      <th>CTYNAME</th>\n",
       "      <th>pop2020</th>\n",
       "      <th>GrowthRate</th>\n",
       "    </tr>\n",
       "  </thead>\n",
       "  <tbody>\n",
       "    <tr>\n",
       "      <th>0</th>\n",
       "      <td>Shelby, County</td>\n",
       "      <td>935346</td>\n",
       "      <td>0.7430</td>\n",
       "    </tr>\n",
       "    <tr>\n",
       "      <th>1</th>\n",
       "      <td>Davidson, County</td>\n",
       "      <td>699749</td>\n",
       "      <td>11.4688</td>\n",
       "    </tr>\n",
       "    <tr>\n",
       "      <th>2</th>\n",
       "      <td>Knox, County</td>\n",
       "      <td>474003</td>\n",
       "      <td>9.4829</td>\n",
       "    </tr>\n",
       "    <tr>\n",
       "      <th>3</th>\n",
       "      <td>Hamilton, County</td>\n",
       "      <td>370594</td>\n",
       "      <td>9.8965</td>\n",
       "    </tr>\n",
       "    <tr>\n",
       "      <th>4</th>\n",
       "      <td>Rutherford, County</td>\n",
       "      <td>341316</td>\n",
       "      <td>29.4325</td>\n",
       "    </tr>\n",
       "  </tbody>\n",
       "</table>\n",
       "</div>"
      ],
      "text/plain": [
       "              CTYNAME  pop2020  GrowthRate\n",
       "0      Shelby, County   935346      0.7430\n",
       "1    Davidson, County   699749     11.4688\n",
       "2        Knox, County   474003      9.4829\n",
       "3    Hamilton, County   370594      9.8965\n",
       "4  Rutherford, County   341316     29.4325"
      ]
     },
     "execution_count": 2,
     "metadata": {},
     "output_type": "execute_result"
    }
   ],
   "source": [
    "county_pop = pd.read_csv('../data/pop_county.csv')\n",
    "county_pop.head()"
   ]
  },
  {
   "cell_type": "code",
   "execution_count": 3,
   "metadata": {},
   "outputs": [
    {
     "data": {
      "text/html": [
       "<div>\n",
       "<style scoped>\n",
       "    .dataframe tbody tr th:only-of-type {\n",
       "        vertical-align: middle;\n",
       "    }\n",
       "\n",
       "    .dataframe tbody tr th {\n",
       "        vertical-align: top;\n",
       "    }\n",
       "\n",
       "    .dataframe thead th {\n",
       "        text-align: right;\n",
       "    }\n",
       "</style>\n",
       "<table border=\"1\" class=\"dataframe\">\n",
       "  <thead>\n",
       "    <tr style=\"text-align: right;\">\n",
       "      <th></th>\n",
       "      <th>CTYNAME</th>\n",
       "      <th>pop2020</th>\n",
       "    </tr>\n",
       "  </thead>\n",
       "  <tbody>\n",
       "    <tr>\n",
       "      <th>0</th>\n",
       "      <td>Shelby, County</td>\n",
       "      <td>935346</td>\n",
       "    </tr>\n",
       "    <tr>\n",
       "      <th>1</th>\n",
       "      <td>Davidson, County</td>\n",
       "      <td>699749</td>\n",
       "    </tr>\n",
       "    <tr>\n",
       "      <th>2</th>\n",
       "      <td>Knox, County</td>\n",
       "      <td>474003</td>\n",
       "    </tr>\n",
       "    <tr>\n",
       "      <th>3</th>\n",
       "      <td>Hamilton, County</td>\n",
       "      <td>370594</td>\n",
       "    </tr>\n",
       "    <tr>\n",
       "      <th>4</th>\n",
       "      <td>Rutherford, County</td>\n",
       "      <td>341316</td>\n",
       "    </tr>\n",
       "  </tbody>\n",
       "</table>\n",
       "</div>"
      ],
      "text/plain": [
       "              CTYNAME  pop2020\n",
       "0      Shelby, County   935346\n",
       "1    Davidson, County   699749\n",
       "2        Knox, County   474003\n",
       "3    Hamilton, County   370594\n",
       "4  Rutherford, County   341316"
      ]
     },
     "execution_count": 3,
     "metadata": {},
     "output_type": "execute_result"
    }
   ],
   "source": [
    "county_pop = county_pop[['CTYNAME', 'pop2020']]\n",
    "county_pop.head()"
   ]
  },
  {
   "cell_type": "code",
   "execution_count": 4,
   "metadata": {},
   "outputs": [
    {
     "data": {
      "text/html": [
       "<div>\n",
       "<style scoped>\n",
       "    .dataframe tbody tr th:only-of-type {\n",
       "        vertical-align: middle;\n",
       "    }\n",
       "\n",
       "    .dataframe tbody tr th {\n",
       "        vertical-align: top;\n",
       "    }\n",
       "\n",
       "    .dataframe thead th {\n",
       "        text-align: right;\n",
       "    }\n",
       "</style>\n",
       "<table border=\"1\" class=\"dataframe\">\n",
       "  <thead>\n",
       "    <tr style=\"text-align: right;\">\n",
       "      <th></th>\n",
       "      <th>county</th>\n",
       "      <th>population</th>\n",
       "    </tr>\n",
       "  </thead>\n",
       "  <tbody>\n",
       "    <tr>\n",
       "      <th>0</th>\n",
       "      <td>Shelby, County</td>\n",
       "      <td>935346</td>\n",
       "    </tr>\n",
       "    <tr>\n",
       "      <th>1</th>\n",
       "      <td>Davidson, County</td>\n",
       "      <td>699749</td>\n",
       "    </tr>\n",
       "    <tr>\n",
       "      <th>2</th>\n",
       "      <td>Knox, County</td>\n",
       "      <td>474003</td>\n",
       "    </tr>\n",
       "    <tr>\n",
       "      <th>3</th>\n",
       "      <td>Hamilton, County</td>\n",
       "      <td>370594</td>\n",
       "    </tr>\n",
       "    <tr>\n",
       "      <th>4</th>\n",
       "      <td>Rutherford, County</td>\n",
       "      <td>341316</td>\n",
       "    </tr>\n",
       "  </tbody>\n",
       "</table>\n",
       "</div>"
      ],
      "text/plain": [
       "               county  population\n",
       "0      Shelby, County      935346\n",
       "1    Davidson, County      699749\n",
       "2        Knox, County      474003\n",
       "3    Hamilton, County      370594\n",
       "4  Rutherford, County      341316"
      ]
     },
     "execution_count": 4,
     "metadata": {},
     "output_type": "execute_result"
    }
   ],
   "source": [
    "county_pop.columns = ['county', 'population']\n",
    "county_pop.head()"
   ]
  },
  {
   "cell_type": "code",
   "execution_count": 5,
   "metadata": {},
   "outputs": [
    {
     "data": {
      "text/html": [
       "<div>\n",
       "<style scoped>\n",
       "    .dataframe tbody tr th:only-of-type {\n",
       "        vertical-align: middle;\n",
       "    }\n",
       "\n",
       "    .dataframe tbody tr th {\n",
       "        vertical-align: top;\n",
       "    }\n",
       "\n",
       "    .dataframe thead th {\n",
       "        text-align: right;\n",
       "    }\n",
       "</style>\n",
       "<table border=\"1\" class=\"dataframe\">\n",
       "  <thead>\n",
       "    <tr style=\"text-align: right;\">\n",
       "      <th></th>\n",
       "      <th>county</th>\n",
       "      <th>population</th>\n",
       "    </tr>\n",
       "  </thead>\n",
       "  <tbody>\n",
       "    <tr>\n",
       "      <th>0</th>\n",
       "      <td>Shelby</td>\n",
       "      <td>935346</td>\n",
       "    </tr>\n",
       "    <tr>\n",
       "      <th>1</th>\n",
       "      <td>Davidson</td>\n",
       "      <td>699749</td>\n",
       "    </tr>\n",
       "    <tr>\n",
       "      <th>2</th>\n",
       "      <td>Knox</td>\n",
       "      <td>474003</td>\n",
       "    </tr>\n",
       "    <tr>\n",
       "      <th>3</th>\n",
       "      <td>Hamilton</td>\n",
       "      <td>370594</td>\n",
       "    </tr>\n",
       "    <tr>\n",
       "      <th>4</th>\n",
       "      <td>Rutherford</td>\n",
       "      <td>341316</td>\n",
       "    </tr>\n",
       "  </tbody>\n",
       "</table>\n",
       "</div>"
      ],
      "text/plain": [
       "       county  population\n",
       "0      Shelby      935346\n",
       "1    Davidson      699749\n",
       "2        Knox      474003\n",
       "3    Hamilton      370594\n",
       "4  Rutherford      341316"
      ]
     },
     "execution_count": 5,
     "metadata": {},
     "output_type": "execute_result"
    }
   ],
   "source": [
    "county_pop['county'] = county_pop['county'].str.split(',').apply(lambda x: str(x[0]))\n",
    "county_pop.head()"
   ]
  },
  {
   "cell_type": "code",
   "execution_count": 6,
   "metadata": {},
   "outputs": [
    {
     "name": "stdout",
     "output_type": "stream",
     "text": [
      "<class 'pandas.core.frame.DataFrame'>\n",
      "RangeIndex: 95 entries, 0 to 94\n",
      "Data columns (total 2 columns):\n",
      " #   Column      Non-Null Count  Dtype \n",
      "---  ------      --------------  ----- \n",
      " 0   county      95 non-null     object\n",
      " 1   population  95 non-null     int64 \n",
      "dtypes: int64(1), object(1)\n",
      "memory usage: 1.6+ KB\n"
     ]
    }
   ],
   "source": [
    "county_pop.info()"
   ]
  },
  {
   "cell_type": "code",
   "execution_count": 7,
   "metadata": {},
   "outputs": [
    {
     "data": {
      "text/plain": [
       "(95, 2)"
      ]
     },
     "execution_count": 7,
     "metadata": {},
     "output_type": "execute_result"
    }
   ],
   "source": [
    "county_pop.shape"
   ]
  },
  {
   "cell_type": "markdown",
   "metadata": {},
   "source": [
    "# Reading in Income Per Capita by County - 2016"
   ]
  },
  {
   "cell_type": "code",
   "execution_count": 8,
   "metadata": {},
   "outputs": [
    {
     "data": {
      "text/html": [
       "<div>\n",
       "<style scoped>\n",
       "    .dataframe tbody tr th:only-of-type {\n",
       "        vertical-align: middle;\n",
       "    }\n",
       "\n",
       "    .dataframe tbody tr th {\n",
       "        vertical-align: top;\n",
       "    }\n",
       "\n",
       "    .dataframe thead th {\n",
       "        text-align: right;\n",
       "    }\n",
       "</style>\n",
       "<table border=\"1\" class=\"dataframe\">\n",
       "  <thead>\n",
       "    <tr style=\"text-align: right;\">\n",
       "      <th></th>\n",
       "      <th>Year</th>\n",
       "      <th>County</th>\n",
       "      <th>Value</th>\n",
       "      <th>LastReportedDate</th>\n",
       "    </tr>\n",
       "  </thead>\n",
       "  <tbody>\n",
       "    <tr>\n",
       "      <th>0</th>\n",
       "      <td>2011</td>\n",
       "      <td>Anderson</td>\n",
       "      <td>35932.0</td>\n",
       "      <td>10/23/2018</td>\n",
       "    </tr>\n",
       "    <tr>\n",
       "      <th>1</th>\n",
       "      <td>2011</td>\n",
       "      <td>Bedford</td>\n",
       "      <td>29258.0</td>\n",
       "      <td>10/23/2018</td>\n",
       "    </tr>\n",
       "    <tr>\n",
       "      <th>2</th>\n",
       "      <td>2011</td>\n",
       "      <td>Benton</td>\n",
       "      <td>30373.0</td>\n",
       "      <td>10/23/2018</td>\n",
       "    </tr>\n",
       "    <tr>\n",
       "      <th>3</th>\n",
       "      <td>2011</td>\n",
       "      <td>Bledsoe</td>\n",
       "      <td>20002.0</td>\n",
       "      <td>10/23/2018</td>\n",
       "    </tr>\n",
       "    <tr>\n",
       "      <th>4</th>\n",
       "      <td>2011</td>\n",
       "      <td>Blount</td>\n",
       "      <td>33636.0</td>\n",
       "      <td>10/23/2018</td>\n",
       "    </tr>\n",
       "  </tbody>\n",
       "</table>\n",
       "</div>"
      ],
      "text/plain": [
       "   Year    County    Value LastReportedDate\n",
       "0  2011  Anderson  35932.0       10/23/2018\n",
       "1  2011   Bedford  29258.0       10/23/2018\n",
       "2  2011    Benton  30373.0       10/23/2018\n",
       "3  2011   Bledsoe  20002.0       10/23/2018\n",
       "4  2011    Blount  33636.0       10/23/2018"
      ]
     },
     "execution_count": 8,
     "metadata": {},
     "output_type": "execute_result"
    }
   ],
   "source": [
    "ipc_county = pd.read_csv('../data/income_pc_county.csv')\n",
    "ipc_county.head()"
   ]
  },
  {
   "cell_type": "code",
   "execution_count": 9,
   "metadata": {},
   "outputs": [
    {
     "data": {
      "text/html": [
       "<div>\n",
       "<style scoped>\n",
       "    .dataframe tbody tr th:only-of-type {\n",
       "        vertical-align: middle;\n",
       "    }\n",
       "\n",
       "    .dataframe tbody tr th {\n",
       "        vertical-align: top;\n",
       "    }\n",
       "\n",
       "    .dataframe thead th {\n",
       "        text-align: right;\n",
       "    }\n",
       "</style>\n",
       "<table border=\"1\" class=\"dataframe\">\n",
       "  <thead>\n",
       "    <tr style=\"text-align: right;\">\n",
       "      <th></th>\n",
       "      <th>Year</th>\n",
       "      <th>County</th>\n",
       "      <th>Value</th>\n",
       "    </tr>\n",
       "  </thead>\n",
       "  <tbody>\n",
       "    <tr>\n",
       "      <th>0</th>\n",
       "      <td>2011</td>\n",
       "      <td>Anderson</td>\n",
       "      <td>35932.0</td>\n",
       "    </tr>\n",
       "    <tr>\n",
       "      <th>1</th>\n",
       "      <td>2011</td>\n",
       "      <td>Bedford</td>\n",
       "      <td>29258.0</td>\n",
       "    </tr>\n",
       "    <tr>\n",
       "      <th>2</th>\n",
       "      <td>2011</td>\n",
       "      <td>Benton</td>\n",
       "      <td>30373.0</td>\n",
       "    </tr>\n",
       "    <tr>\n",
       "      <th>3</th>\n",
       "      <td>2011</td>\n",
       "      <td>Bledsoe</td>\n",
       "      <td>20002.0</td>\n",
       "    </tr>\n",
       "    <tr>\n",
       "      <th>4</th>\n",
       "      <td>2011</td>\n",
       "      <td>Blount</td>\n",
       "      <td>33636.0</td>\n",
       "    </tr>\n",
       "  </tbody>\n",
       "</table>\n",
       "</div>"
      ],
      "text/plain": [
       "   Year    County    Value\n",
       "0  2011  Anderson  35932.0\n",
       "1  2011   Bedford  29258.0\n",
       "2  2011    Benton  30373.0\n",
       "3  2011   Bledsoe  20002.0\n",
       "4  2011    Blount  33636.0"
      ]
     },
     "execution_count": 9,
     "metadata": {},
     "output_type": "execute_result"
    }
   ],
   "source": [
    "ipc_county = ipc_county [['Year', 'County', 'Value']]\n",
    "ipc_county.head()"
   ]
  },
  {
   "cell_type": "code",
   "execution_count": 10,
   "metadata": {},
   "outputs": [
    {
     "data": {
      "text/html": [
       "<div>\n",
       "<style scoped>\n",
       "    .dataframe tbody tr th:only-of-type {\n",
       "        vertical-align: middle;\n",
       "    }\n",
       "\n",
       "    .dataframe tbody tr th {\n",
       "        vertical-align: top;\n",
       "    }\n",
       "\n",
       "    .dataframe thead th {\n",
       "        text-align: right;\n",
       "    }\n",
       "</style>\n",
       "<table border=\"1\" class=\"dataframe\">\n",
       "  <thead>\n",
       "    <tr style=\"text-align: right;\">\n",
       "      <th></th>\n",
       "      <th>year</th>\n",
       "      <th>county</th>\n",
       "      <th>income</th>\n",
       "    </tr>\n",
       "  </thead>\n",
       "  <tbody>\n",
       "    <tr>\n",
       "      <th>0</th>\n",
       "      <td>2011</td>\n",
       "      <td>Anderson</td>\n",
       "      <td>35932.0</td>\n",
       "    </tr>\n",
       "    <tr>\n",
       "      <th>1</th>\n",
       "      <td>2011</td>\n",
       "      <td>Bedford</td>\n",
       "      <td>29258.0</td>\n",
       "    </tr>\n",
       "    <tr>\n",
       "      <th>2</th>\n",
       "      <td>2011</td>\n",
       "      <td>Benton</td>\n",
       "      <td>30373.0</td>\n",
       "    </tr>\n",
       "    <tr>\n",
       "      <th>3</th>\n",
       "      <td>2011</td>\n",
       "      <td>Bledsoe</td>\n",
       "      <td>20002.0</td>\n",
       "    </tr>\n",
       "    <tr>\n",
       "      <th>4</th>\n",
       "      <td>2011</td>\n",
       "      <td>Blount</td>\n",
       "      <td>33636.0</td>\n",
       "    </tr>\n",
       "  </tbody>\n",
       "</table>\n",
       "</div>"
      ],
      "text/plain": [
       "   year    county   income\n",
       "0  2011  Anderson  35932.0\n",
       "1  2011   Bedford  29258.0\n",
       "2  2011    Benton  30373.0\n",
       "3  2011   Bledsoe  20002.0\n",
       "4  2011    Blount  33636.0"
      ]
     },
     "execution_count": 10,
     "metadata": {},
     "output_type": "execute_result"
    }
   ],
   "source": [
    "ipc_county.columns = ['year', 'county', 'income']\n",
    "ipc_county.head()"
   ]
  },
  {
   "cell_type": "code",
   "execution_count": 11,
   "metadata": {},
   "outputs": [
    {
     "name": "stdout",
     "output_type": "stream",
     "text": [
      "<class 'pandas.core.frame.DataFrame'>\n",
      "RangeIndex: 577 entries, 0 to 576\n",
      "Data columns (total 3 columns):\n",
      " #   Column  Non-Null Count  Dtype  \n",
      "---  ------  --------------  -----  \n",
      " 0   year    577 non-null    object \n",
      " 1   county  576 non-null    object \n",
      " 2   income  576 non-null    float64\n",
      "dtypes: float64(1), object(2)\n",
      "memory usage: 13.6+ KB\n"
     ]
    }
   ],
   "source": [
    "ipc_county.info()"
   ]
  },
  {
   "cell_type": "code",
   "execution_count": 12,
   "metadata": {},
   "outputs": [
    {
     "data": {
      "text/plain": [
       "(577, 3)"
      ]
     },
     "execution_count": 12,
     "metadata": {},
     "output_type": "execute_result"
    }
   ],
   "source": [
    "ipc_county.shape"
   ]
  },
  {
   "cell_type": "code",
   "execution_count": 13,
   "metadata": {},
   "outputs": [
    {
     "name": "stdout",
     "output_type": "stream",
     "text": [
      "     year    county   income\n",
      "480  2016  Anderson  39225.0\n",
      "481  2016   Bedford  34069.0\n",
      "482  2016    Benton  34013.0\n",
      "483  2016   Bledsoe  20353.0\n",
      "484  2016    Blount  39226.0\n",
      "---------\n",
      "2016    96\n",
      "Name: year, dtype: int64\n"
     ]
    }
   ],
   "source": [
    "ipc_county = ipc_county.loc[ipc_county['year'].isin([\"2016\"])]\n",
    "print(ipc_county.head())\n",
    "print('---------')\n",
    "print(ipc_county['year'].value_counts())"
   ]
  },
  {
   "cell_type": "markdown",
   "metadata": {},
   "source": [
    "# Reading in Traffic Volume Data - 2018"
   ]
  },
  {
   "cell_type": "code",
   "execution_count": 14,
   "metadata": {},
   "outputs": [
    {
     "data": {
      "text/html": [
       "<div>\n",
       "<style scoped>\n",
       "    .dataframe tbody tr th:only-of-type {\n",
       "        vertical-align: middle;\n",
       "    }\n",
       "\n",
       "    .dataframe tbody tr th {\n",
       "        vertical-align: top;\n",
       "    }\n",
       "\n",
       "    .dataframe thead th {\n",
       "        text-align: right;\n",
       "    }\n",
       "</style>\n",
       "<table border=\"1\" class=\"dataframe\">\n",
       "  <thead>\n",
       "    <tr style=\"text-align: right;\">\n",
       "      <th></th>\n",
       "      <th>OBJECTID</th>\n",
       "      <th>Station ID</th>\n",
       "      <th>Station Number</th>\n",
       "      <th>County</th>\n",
       "      <th>Location</th>\n",
       "      <th>Route Number</th>\n",
       "      <th>2018</th>\n",
       "      <th>2017</th>\n",
       "      <th>2016</th>\n",
       "      <th>2015</th>\n",
       "      <th>...</th>\n",
       "      <th>1992</th>\n",
       "      <th>1991</th>\n",
       "      <th>1990</th>\n",
       "      <th>1989</th>\n",
       "      <th>1988</th>\n",
       "      <th>1987</th>\n",
       "      <th>1986</th>\n",
       "      <th>1985</th>\n",
       "      <th>1984</th>\n",
       "      <th>1983</th>\n",
       "    </tr>\n",
       "  </thead>\n",
       "  <tbody>\n",
       "    <tr>\n",
       "      <th>0</th>\n",
       "      <td>523</td>\n",
       "      <td>5000001</td>\n",
       "      <td>1</td>\n",
       "      <td>Benton</td>\n",
       "      <td>NEAR HENRY CO LINE</td>\n",
       "      <td>895</td>\n",
       "      <td>64</td>\n",
       "      <td>103.0</td>\n",
       "      <td>152.0</td>\n",
       "      <td>149.0</td>\n",
       "      <td>...</td>\n",
       "      <td>60.0</td>\n",
       "      <td>130.0</td>\n",
       "      <td>140.0</td>\n",
       "      <td>122.0</td>\n",
       "      <td>145.0</td>\n",
       "      <td>123.0</td>\n",
       "      <td>141.0</td>\n",
       "      <td>NaN</td>\n",
       "      <td>NaN</td>\n",
       "      <td>NaN</td>\n",
       "    </tr>\n",
       "    <tr>\n",
       "      <th>1</th>\n",
       "      <td>524</td>\n",
       "      <td>7000001</td>\n",
       "      <td>1</td>\n",
       "      <td>Bledsoe</td>\n",
       "      <td>NORTH OF BELLVIEW</td>\n",
       "      <td>SR101</td>\n",
       "      <td>1622</td>\n",
       "      <td>1486.0</td>\n",
       "      <td>1617.0</td>\n",
       "      <td>1408.0</td>\n",
       "      <td>...</td>\n",
       "      <td>1104.0</td>\n",
       "      <td>787.0</td>\n",
       "      <td>878.0</td>\n",
       "      <td>960.0</td>\n",
       "      <td>1074.0</td>\n",
       "      <td>818.0</td>\n",
       "      <td>762.0</td>\n",
       "      <td>672.0</td>\n",
       "      <td>NaN</td>\n",
       "      <td>NaN</td>\n",
       "    </tr>\n",
       "    <tr>\n",
       "      <th>2</th>\n",
       "      <td>525</td>\n",
       "      <td>9000001</td>\n",
       "      <td>1</td>\n",
       "      <td>Blount</td>\n",
       "      <td>NEAR SEVIER COUNTY LINE</td>\n",
       "      <td>1275</td>\n",
       "      <td>5704</td>\n",
       "      <td>4238.0</td>\n",
       "      <td>3771.0</td>\n",
       "      <td>3589.0</td>\n",
       "      <td>...</td>\n",
       "      <td>2150.0</td>\n",
       "      <td>2190.0</td>\n",
       "      <td>1920.0</td>\n",
       "      <td>2201.0</td>\n",
       "      <td>2004.0</td>\n",
       "      <td>1733.0</td>\n",
       "      <td>1356.0</td>\n",
       "      <td>1584.0</td>\n",
       "      <td>NaN</td>\n",
       "      <td>NaN</td>\n",
       "    </tr>\n",
       "    <tr>\n",
       "      <th>3</th>\n",
       "      <td>526</td>\n",
       "      <td>11000001</td>\n",
       "      <td>1</td>\n",
       "      <td>Bradley</td>\n",
       "      <td>N OF EUREKA E OF MEIGS CO LINE</td>\n",
       "      <td>SR306</td>\n",
       "      <td>3478</td>\n",
       "      <td>2458.0</td>\n",
       "      <td>2654.0</td>\n",
       "      <td>2670.0</td>\n",
       "      <td>...</td>\n",
       "      <td>1423.0</td>\n",
       "      <td>1372.0</td>\n",
       "      <td>1606.0</td>\n",
       "      <td>1458.0</td>\n",
       "      <td>1381.0</td>\n",
       "      <td>1262.0</td>\n",
       "      <td>1205.0</td>\n",
       "      <td>1128.0</td>\n",
       "      <td>NaN</td>\n",
       "      <td>NaN</td>\n",
       "    </tr>\n",
       "    <tr>\n",
       "      <th>4</th>\n",
       "      <td>527</td>\n",
       "      <td>13000001</td>\n",
       "      <td>1</td>\n",
       "      <td>Campbell</td>\n",
       "      <td>SOUTHWEST JELLICO</td>\n",
       "      <td>SR297</td>\n",
       "      <td>2956</td>\n",
       "      <td>3222.0</td>\n",
       "      <td>3035.0</td>\n",
       "      <td>2858.0</td>\n",
       "      <td>...</td>\n",
       "      <td>3200.0</td>\n",
       "      <td>3245.0</td>\n",
       "      <td>3332.0</td>\n",
       "      <td>3650.0</td>\n",
       "      <td>3197.0</td>\n",
       "      <td>3454.0</td>\n",
       "      <td>2841.0</td>\n",
       "      <td>2794.0</td>\n",
       "      <td>NaN</td>\n",
       "      <td>NaN</td>\n",
       "    </tr>\n",
       "  </tbody>\n",
       "</table>\n",
       "<p>5 rows × 42 columns</p>\n",
       "</div>"
      ],
      "text/plain": [
       "   OBJECTID  Station ID  Station Number    County  \\\n",
       "0       523     5000001               1    Benton   \n",
       "1       524     7000001               1   Bledsoe   \n",
       "2       525     9000001               1    Blount   \n",
       "3       526    11000001               1   Bradley   \n",
       "4       527    13000001               1  Campbell   \n",
       "\n",
       "                         Location Route Number  2018    2017    2016    2015  \\\n",
       "0              NEAR HENRY CO LINE          895    64   103.0   152.0   149.0   \n",
       "1               NORTH OF BELLVIEW        SR101  1622  1486.0  1617.0  1408.0   \n",
       "2         NEAR SEVIER COUNTY LINE         1275  5704  4238.0  3771.0  3589.0   \n",
       "3  N OF EUREKA E OF MEIGS CO LINE        SR306  3478  2458.0  2654.0  2670.0   \n",
       "4               SOUTHWEST JELLICO        SR297  2956  3222.0  3035.0  2858.0   \n",
       "\n",
       "   ...    1992    1991    1990    1989    1988    1987    1986    1985  1984  \\\n",
       "0  ...    60.0   130.0   140.0   122.0   145.0   123.0   141.0     NaN   NaN   \n",
       "1  ...  1104.0   787.0   878.0   960.0  1074.0   818.0   762.0   672.0   NaN   \n",
       "2  ...  2150.0  2190.0  1920.0  2201.0  2004.0  1733.0  1356.0  1584.0   NaN   \n",
       "3  ...  1423.0  1372.0  1606.0  1458.0  1381.0  1262.0  1205.0  1128.0   NaN   \n",
       "4  ...  3200.0  3245.0  3332.0  3650.0  3197.0  3454.0  2841.0  2794.0   NaN   \n",
       "\n",
       "   1983  \n",
       "0   NaN  \n",
       "1   NaN  \n",
       "2   NaN  \n",
       "3   NaN  \n",
       "4   NaN  \n",
       "\n",
       "[5 rows x 42 columns]"
      ]
     },
     "execution_count": 14,
     "metadata": {},
     "output_type": "execute_result"
    }
   ],
   "source": [
    "traffic_volume_county = pd.read_csv('../data/traffic_data_county.csv')\n",
    "traffic_volume_county.head()"
   ]
  },
  {
   "cell_type": "code",
   "execution_count": 15,
   "metadata": {},
   "outputs": [
    {
     "data": {
      "text/plain": [
       "Index(['OBJECTID', 'Station ID', 'Station Number', 'County', 'Location',\n",
       "       'Route Number', '2018', '2017', '2016', '2015', '2014', '2013', '2012',\n",
       "       '2011', '2010', '2009', '2008', '2007', '2006', '2005', '2004', '2003',\n",
       "       '2002', '2001', '2000', '1999', '1998', '1997', '1996', '1995', '1994',\n",
       "       '1993', '1992', '1991', '1990', '1989', '1988', '1987', '1986', '1985',\n",
       "       '1984', '1983'],\n",
       "      dtype='object')"
      ]
     },
     "execution_count": 15,
     "metadata": {},
     "output_type": "execute_result"
    }
   ],
   "source": [
    "traffic_volume_county.columns"
   ]
  },
  {
   "cell_type": "code",
   "execution_count": 16,
   "metadata": {},
   "outputs": [
    {
     "data": {
      "text/html": [
       "<div>\n",
       "<style scoped>\n",
       "    .dataframe tbody tr th:only-of-type {\n",
       "        vertical-align: middle;\n",
       "    }\n",
       "\n",
       "    .dataframe tbody tr th {\n",
       "        vertical-align: top;\n",
       "    }\n",
       "\n",
       "    .dataframe thead th {\n",
       "        text-align: right;\n",
       "    }\n",
       "</style>\n",
       "<table border=\"1\" class=\"dataframe\">\n",
       "  <thead>\n",
       "    <tr style=\"text-align: right;\">\n",
       "      <th></th>\n",
       "      <th>Station ID</th>\n",
       "      <th>County</th>\n",
       "      <th>Location</th>\n",
       "      <th>2018</th>\n",
       "    </tr>\n",
       "  </thead>\n",
       "  <tbody>\n",
       "    <tr>\n",
       "      <th>0</th>\n",
       "      <td>5000001</td>\n",
       "      <td>Benton</td>\n",
       "      <td>NEAR HENRY CO LINE</td>\n",
       "      <td>64</td>\n",
       "    </tr>\n",
       "    <tr>\n",
       "      <th>1</th>\n",
       "      <td>7000001</td>\n",
       "      <td>Bledsoe</td>\n",
       "      <td>NORTH OF BELLVIEW</td>\n",
       "      <td>1622</td>\n",
       "    </tr>\n",
       "    <tr>\n",
       "      <th>2</th>\n",
       "      <td>9000001</td>\n",
       "      <td>Blount</td>\n",
       "      <td>NEAR SEVIER COUNTY LINE</td>\n",
       "      <td>5704</td>\n",
       "    </tr>\n",
       "    <tr>\n",
       "      <th>3</th>\n",
       "      <td>11000001</td>\n",
       "      <td>Bradley</td>\n",
       "      <td>N OF EUREKA E OF MEIGS CO LINE</td>\n",
       "      <td>3478</td>\n",
       "    </tr>\n",
       "    <tr>\n",
       "      <th>4</th>\n",
       "      <td>13000001</td>\n",
       "      <td>Campbell</td>\n",
       "      <td>SOUTHWEST JELLICO</td>\n",
       "      <td>2956</td>\n",
       "    </tr>\n",
       "  </tbody>\n",
       "</table>\n",
       "</div>"
      ],
      "text/plain": [
       "   Station ID    County                        Location  2018\n",
       "0     5000001    Benton              NEAR HENRY CO LINE    64\n",
       "1     7000001   Bledsoe               NORTH OF BELLVIEW  1622\n",
       "2     9000001    Blount         NEAR SEVIER COUNTY LINE  5704\n",
       "3    11000001   Bradley  N OF EUREKA E OF MEIGS CO LINE  3478\n",
       "4    13000001  Campbell               SOUTHWEST JELLICO  2956"
      ]
     },
     "execution_count": 16,
     "metadata": {},
     "output_type": "execute_result"
    }
   ],
   "source": [
    "traffic_volume_county = traffic_volume_county[['Station ID', 'County', 'Location', '2018']]\n",
    "traffic_volume_county.head()"
   ]
  },
  {
   "cell_type": "code",
   "execution_count": 17,
   "metadata": {},
   "outputs": [
    {
     "data": {
      "text/html": [
       "<div>\n",
       "<style scoped>\n",
       "    .dataframe tbody tr th:only-of-type {\n",
       "        vertical-align: middle;\n",
       "    }\n",
       "\n",
       "    .dataframe tbody tr th {\n",
       "        vertical-align: top;\n",
       "    }\n",
       "\n",
       "    .dataframe thead th {\n",
       "        text-align: right;\n",
       "    }\n",
       "</style>\n",
       "<table border=\"1\" class=\"dataframe\">\n",
       "  <thead>\n",
       "    <tr style=\"text-align: right;\">\n",
       "      <th></th>\n",
       "      <th>station_id</th>\n",
       "      <th>county</th>\n",
       "      <th>location</th>\n",
       "      <th>tv_2018</th>\n",
       "    </tr>\n",
       "  </thead>\n",
       "  <tbody>\n",
       "    <tr>\n",
       "      <th>0</th>\n",
       "      <td>5000001</td>\n",
       "      <td>Benton</td>\n",
       "      <td>NEAR HENRY CO LINE</td>\n",
       "      <td>64</td>\n",
       "    </tr>\n",
       "    <tr>\n",
       "      <th>1</th>\n",
       "      <td>7000001</td>\n",
       "      <td>Bledsoe</td>\n",
       "      <td>NORTH OF BELLVIEW</td>\n",
       "      <td>1622</td>\n",
       "    </tr>\n",
       "    <tr>\n",
       "      <th>2</th>\n",
       "      <td>9000001</td>\n",
       "      <td>Blount</td>\n",
       "      <td>NEAR SEVIER COUNTY LINE</td>\n",
       "      <td>5704</td>\n",
       "    </tr>\n",
       "    <tr>\n",
       "      <th>3</th>\n",
       "      <td>11000001</td>\n",
       "      <td>Bradley</td>\n",
       "      <td>N OF EUREKA E OF MEIGS CO LINE</td>\n",
       "      <td>3478</td>\n",
       "    </tr>\n",
       "    <tr>\n",
       "      <th>4</th>\n",
       "      <td>13000001</td>\n",
       "      <td>Campbell</td>\n",
       "      <td>SOUTHWEST JELLICO</td>\n",
       "      <td>2956</td>\n",
       "    </tr>\n",
       "  </tbody>\n",
       "</table>\n",
       "</div>"
      ],
      "text/plain": [
       "   station_id    county                        location  tv_2018\n",
       "0     5000001    Benton              NEAR HENRY CO LINE       64\n",
       "1     7000001   Bledsoe               NORTH OF BELLVIEW     1622\n",
       "2     9000001    Blount         NEAR SEVIER COUNTY LINE     5704\n",
       "3    11000001   Bradley  N OF EUREKA E OF MEIGS CO LINE     3478\n",
       "4    13000001  Campbell               SOUTHWEST JELLICO     2956"
      ]
     },
     "execution_count": 17,
     "metadata": {},
     "output_type": "execute_result"
    }
   ],
   "source": [
    "traffic_volume_county.columns = ['station_id', 'county', 'location', 'tv_2018']\n",
    "traffic_volume_county.head()"
   ]
  },
  {
   "cell_type": "code",
   "execution_count": 18,
   "metadata": {},
   "outputs": [
    {
     "name": "stdout",
     "output_type": "stream",
     "text": [
      "<class 'pandas.core.frame.DataFrame'>\n",
      "RangeIndex: 11176 entries, 0 to 11175\n",
      "Data columns (total 4 columns):\n",
      " #   Column      Non-Null Count  Dtype \n",
      "---  ------      --------------  ----- \n",
      " 0   station_id  11176 non-null  int64 \n",
      " 1   county      11176 non-null  object\n",
      " 2   location    11167 non-null  object\n",
      " 3   tv_2018     11176 non-null  int64 \n",
      "dtypes: int64(2), object(2)\n",
      "memory usage: 349.4+ KB\n"
     ]
    }
   ],
   "source": [
    "traffic_volume_county.info()"
   ]
  },
  {
   "cell_type": "code",
   "execution_count": 19,
   "metadata": {},
   "outputs": [
    {
     "data": {
      "text/plain": [
       "(11176, 4)"
      ]
     },
     "execution_count": 19,
     "metadata": {},
     "output_type": "execute_result"
    }
   ],
   "source": [
    "traffic_volume_county.shape"
   ]
  },
  {
   "cell_type": "code",
   "execution_count": 20,
   "metadata": {},
   "outputs": [
    {
     "data": {
      "text/plain": [
       "(11176, 4)"
      ]
     },
     "execution_count": 20,
     "metadata": {},
     "output_type": "execute_result"
    }
   ],
   "source": [
    "traffic_volume_grouped = traffic_volume_county.groupby(['county']).agg({'tv_2018': \"sum\"}).reset_index()\n",
    "traffic_volume_county.shape"
   ]
  },
  {
   "cell_type": "code",
   "execution_count": 21,
   "metadata": {
    "scrolled": true
   },
   "outputs": [
    {
     "data": {
      "text/html": [
       "<div>\n",
       "<style scoped>\n",
       "    .dataframe tbody tr th:only-of-type {\n",
       "        vertical-align: middle;\n",
       "    }\n",
       "\n",
       "    .dataframe tbody tr th {\n",
       "        vertical-align: top;\n",
       "    }\n",
       "\n",
       "    .dataframe thead th {\n",
       "        text-align: right;\n",
       "    }\n",
       "</style>\n",
       "<table border=\"1\" class=\"dataframe\">\n",
       "  <thead>\n",
       "    <tr style=\"text-align: right;\">\n",
       "      <th></th>\n",
       "      <th>county</th>\n",
       "      <th>tv_2018</th>\n",
       "    </tr>\n",
       "  </thead>\n",
       "  <tbody>\n",
       "    <tr>\n",
       "      <th>0</th>\n",
       "      <td>Anderson</td>\n",
       "      <td>1002631</td>\n",
       "    </tr>\n",
       "    <tr>\n",
       "      <th>1</th>\n",
       "      <td>Bedford</td>\n",
       "      <td>492738</td>\n",
       "    </tr>\n",
       "    <tr>\n",
       "      <th>2</th>\n",
       "      <td>Benton</td>\n",
       "      <td>205242</td>\n",
       "    </tr>\n",
       "    <tr>\n",
       "      <th>3</th>\n",
       "      <td>Bledsoe</td>\n",
       "      <td>54175</td>\n",
       "    </tr>\n",
       "    <tr>\n",
       "      <th>4</th>\n",
       "      <td>Blount</td>\n",
       "      <td>1710630</td>\n",
       "    </tr>\n",
       "  </tbody>\n",
       "</table>\n",
       "</div>"
      ],
      "text/plain": [
       "     county  tv_2018\n",
       "0  Anderson  1002631\n",
       "1   Bedford   492738\n",
       "2    Benton   205242\n",
       "3   Bledsoe    54175\n",
       "4    Blount  1710630"
      ]
     },
     "execution_count": 21,
     "metadata": {},
     "output_type": "execute_result"
    }
   ],
   "source": [
    "traffic_volume_grouped.head()"
   ]
  },
  {
   "cell_type": "markdown",
   "metadata": {},
   "source": [
    "# Reading in Spatial Data"
   ]
  },
  {
   "cell_type": "code",
   "execution_count": 22,
   "metadata": {},
   "outputs": [
    {
     "data": {
      "text/html": [
       "<div>\n",
       "<style scoped>\n",
       "    .dataframe tbody tr th:only-of-type {\n",
       "        vertical-align: middle;\n",
       "    }\n",
       "\n",
       "    .dataframe tbody tr th {\n",
       "        vertical-align: top;\n",
       "    }\n",
       "\n",
       "    .dataframe thead th {\n",
       "        text-align: right;\n",
       "    }\n",
       "</style>\n",
       "<table border=\"1\" class=\"dataframe\">\n",
       "  <thead>\n",
       "    <tr style=\"text-align: right;\">\n",
       "      <th></th>\n",
       "      <th>LocationID</th>\n",
       "      <th>Category</th>\n",
       "      <th>AADT</th>\n",
       "      <th>AADT_Year</th>\n",
       "      <th>Latitude</th>\n",
       "      <th>Longitude</th>\n",
       "    </tr>\n",
       "  </thead>\n",
       "  <tbody>\n",
       "    <tr>\n",
       "      <th>0</th>\n",
       "      <td>1000005</td>\n",
       "      <td>CC</td>\n",
       "      <td>395.0</td>\n",
       "      <td>2019.0</td>\n",
       "      <td>36.126099</td>\n",
       "      <td>-84.416817</td>\n",
       "    </tr>\n",
       "    <tr>\n",
       "      <th>1</th>\n",
       "      <td>1000007</td>\n",
       "      <td>CC</td>\n",
       "      <td>1916.0</td>\n",
       "      <td>2019.0</td>\n",
       "      <td>36.191066</td>\n",
       "      <td>-84.181373</td>\n",
       "    </tr>\n",
       "    <tr>\n",
       "      <th>2</th>\n",
       "      <td>1000008</td>\n",
       "      <td>CC</td>\n",
       "      <td>3519.0</td>\n",
       "      <td>2019.0</td>\n",
       "      <td>36.218138</td>\n",
       "      <td>-84.162139</td>\n",
       "    </tr>\n",
       "    <tr>\n",
       "      <th>3</th>\n",
       "      <td>1000010</td>\n",
       "      <td>CC</td>\n",
       "      <td>2348.0</td>\n",
       "      <td>2019.0</td>\n",
       "      <td>36.228584</td>\n",
       "      <td>-84.155918</td>\n",
       "    </tr>\n",
       "    <tr>\n",
       "      <th>4</th>\n",
       "      <td>1000011</td>\n",
       "      <td>CC</td>\n",
       "      <td>8840.0</td>\n",
       "      <td>2019.0</td>\n",
       "      <td>36.214983</td>\n",
       "      <td>-84.152704</td>\n",
       "    </tr>\n",
       "  </tbody>\n",
       "</table>\n",
       "</div>"
      ],
      "text/plain": [
       "   LocationID Category    AADT  AADT_Year   Latitude  Longitude\n",
       "0     1000005       CC   395.0     2019.0  36.126099 -84.416817\n",
       "1     1000007       CC  1916.0     2019.0  36.191066 -84.181373\n",
       "2     1000008       CC  3519.0     2019.0  36.218138 -84.162139\n",
       "3     1000010       CC  2348.0     2019.0  36.228584 -84.155918\n",
       "4     1000011       CC  8840.0     2019.0  36.214983 -84.152704"
      ]
     },
     "execution_count": 22,
     "metadata": {},
     "output_type": "execute_result"
    }
   ],
   "source": [
    "tv_2019 = pd.read_csv('../data/tv_2019_geo.csv')\n",
    "tv_2019.head()"
   ]
  },
  {
   "cell_type": "code",
   "execution_count": 23,
   "metadata": {},
   "outputs": [
    {
     "data": {
      "text/html": [
       "<div>\n",
       "<style scoped>\n",
       "    .dataframe tbody tr th:only-of-type {\n",
       "        vertical-align: middle;\n",
       "    }\n",
       "\n",
       "    .dataframe tbody tr th {\n",
       "        vertical-align: top;\n",
       "    }\n",
       "\n",
       "    .dataframe thead th {\n",
       "        text-align: right;\n",
       "    }\n",
       "</style>\n",
       "<table border=\"1\" class=\"dataframe\">\n",
       "  <thead>\n",
       "    <tr style=\"text-align: right;\">\n",
       "      <th></th>\n",
       "      <th>LocationID</th>\n",
       "      <th>Category</th>\n",
       "      <th>AADT</th>\n",
       "      <th>AADT_Year</th>\n",
       "      <th>Latitude</th>\n",
       "      <th>Longitude</th>\n",
       "      <th>geometry</th>\n",
       "    </tr>\n",
       "  </thead>\n",
       "  <tbody>\n",
       "    <tr>\n",
       "      <th>0</th>\n",
       "      <td>01000005</td>\n",
       "      <td>CC</td>\n",
       "      <td>395.0</td>\n",
       "      <td>2019.0</td>\n",
       "      <td>36.126099</td>\n",
       "      <td>-84.416817</td>\n",
       "      <td>POINT (-84.41682 36.12610)</td>\n",
       "    </tr>\n",
       "    <tr>\n",
       "      <th>1</th>\n",
       "      <td>01000007</td>\n",
       "      <td>CC</td>\n",
       "      <td>1916.0</td>\n",
       "      <td>2019.0</td>\n",
       "      <td>36.191066</td>\n",
       "      <td>-84.181373</td>\n",
       "      <td>POINT (-84.18137 36.19107)</td>\n",
       "    </tr>\n",
       "    <tr>\n",
       "      <th>2</th>\n",
       "      <td>01000008</td>\n",
       "      <td>CC</td>\n",
       "      <td>3519.0</td>\n",
       "      <td>2019.0</td>\n",
       "      <td>36.218138</td>\n",
       "      <td>-84.162139</td>\n",
       "      <td>POINT (-84.16214 36.21814)</td>\n",
       "    </tr>\n",
       "    <tr>\n",
       "      <th>3</th>\n",
       "      <td>01000010</td>\n",
       "      <td>CC</td>\n",
       "      <td>2348.0</td>\n",
       "      <td>2019.0</td>\n",
       "      <td>36.228584</td>\n",
       "      <td>-84.155918</td>\n",
       "      <td>POINT (-84.15592 36.22858)</td>\n",
       "    </tr>\n",
       "    <tr>\n",
       "      <th>4</th>\n",
       "      <td>01000011</td>\n",
       "      <td>CC</td>\n",
       "      <td>8840.0</td>\n",
       "      <td>2019.0</td>\n",
       "      <td>36.214983</td>\n",
       "      <td>-84.152704</td>\n",
       "      <td>POINT (-84.15270 36.21498)</td>\n",
       "    </tr>\n",
       "  </tbody>\n",
       "</table>\n",
       "</div>"
      ],
      "text/plain": [
       "  LocationID Category    AADT  AADT_Year   Latitude  Longitude  \\\n",
       "0   01000005       CC   395.0     2019.0  36.126099 -84.416817   \n",
       "1   01000007       CC  1916.0     2019.0  36.191066 -84.181373   \n",
       "2   01000008       CC  3519.0     2019.0  36.218138 -84.162139   \n",
       "3   01000010       CC  2348.0     2019.0  36.228584 -84.155918   \n",
       "4   01000011       CC  8840.0     2019.0  36.214983 -84.152704   \n",
       "\n",
       "                     geometry  \n",
       "0  POINT (-84.41682 36.12610)  \n",
       "1  POINT (-84.18137 36.19107)  \n",
       "2  POINT (-84.16214 36.21814)  \n",
       "3  POINT (-84.15592 36.22858)  \n",
       "4  POINT (-84.15270 36.21498)  "
      ]
     },
     "execution_count": 23,
     "metadata": {},
     "output_type": "execute_result"
    }
   ],
   "source": [
    "tv_shape = gpd.read_file('../data/shapefile/Traffic_station_data_2019.shp')\n",
    "tv_shape.head()"
   ]
  },
  {
   "cell_type": "code",
   "execution_count": 24,
   "metadata": {},
   "outputs": [
    {
     "data": {
      "text/plain": [
       "(12403, 7)"
      ]
     },
     "execution_count": 24,
     "metadata": {},
     "output_type": "execute_result"
    }
   ],
   "source": [
    "tv_shape.shape"
   ]
  },
  {
   "cell_type": "code",
   "execution_count": 25,
   "metadata": {},
   "outputs": [
    {
     "data": {
      "text/plain": [
       "(12403, 6)"
      ]
     },
     "execution_count": 25,
     "metadata": {},
     "output_type": "execute_result"
    }
   ],
   "source": [
    "tv_2019.shape"
   ]
  },
  {
   "cell_type": "code",
   "execution_count": 26,
   "metadata": {},
   "outputs": [
    {
     "data": {
      "text/html": [
       "<div>\n",
       "<style scoped>\n",
       "    .dataframe tbody tr th:only-of-type {\n",
       "        vertical-align: middle;\n",
       "    }\n",
       "\n",
       "    .dataframe tbody tr th {\n",
       "        vertical-align: top;\n",
       "    }\n",
       "\n",
       "    .dataframe thead th {\n",
       "        text-align: right;\n",
       "    }\n",
       "</style>\n",
       "<table border=\"1\" class=\"dataframe\">\n",
       "  <thead>\n",
       "    <tr style=\"text-align: right;\">\n",
       "      <th></th>\n",
       "      <th>id</th>\n",
       "      <th>STATEFP</th>\n",
       "      <th>COUNTYFP</th>\n",
       "      <th>COUNTYNS</th>\n",
       "      <th>AFFGEOID</th>\n",
       "      <th>GEOID</th>\n",
       "      <th>NAME</th>\n",
       "      <th>LSAD</th>\n",
       "      <th>ALAND</th>\n",
       "      <th>AWATER</th>\n",
       "      <th>geometry</th>\n",
       "    </tr>\n",
       "  </thead>\n",
       "  <tbody>\n",
       "    <tr>\n",
       "      <th>0</th>\n",
       "      <td>None</td>\n",
       "      <td>47</td>\n",
       "      <td>003</td>\n",
       "      <td>01639723</td>\n",
       "      <td>0500000US47003</td>\n",
       "      <td>47003</td>\n",
       "      <td>Bedford</td>\n",
       "      <td>06</td>\n",
       "      <td>1226717421</td>\n",
       "      <td>2983130</td>\n",
       "      <td>POLYGON ((-86.63855 35.68695, -86.54313 35.698...</td>\n",
       "    </tr>\n",
       "    <tr>\n",
       "      <th>1</th>\n",
       "      <td>None</td>\n",
       "      <td>47</td>\n",
       "      <td>119</td>\n",
       "      <td>01639772</td>\n",
       "      <td>0500000US47119</td>\n",
       "      <td>47119</td>\n",
       "      <td>Maury</td>\n",
       "      <td>06</td>\n",
       "      <td>1588021146</td>\n",
       "      <td>6319196</td>\n",
       "      <td>POLYGON ((-87.33831 35.65954, -87.25526 35.700...</td>\n",
       "    </tr>\n",
       "    <tr>\n",
       "      <th>2</th>\n",
       "      <td>None</td>\n",
       "      <td>47</td>\n",
       "      <td>177</td>\n",
       "      <td>01639796</td>\n",
       "      <td>0500000US47177</td>\n",
       "      <td>47177</td>\n",
       "      <td>Warren</td>\n",
       "      <td>06</td>\n",
       "      <td>1120635693</td>\n",
       "      <td>3508325</td>\n",
       "      <td>POLYGON ((-85.88579 35.83899, -85.86812 35.845...</td>\n",
       "    </tr>\n",
       "    <tr>\n",
       "      <th>3</th>\n",
       "      <td>None</td>\n",
       "      <td>47</td>\n",
       "      <td>147</td>\n",
       "      <td>01639786</td>\n",
       "      <td>0500000US47147</td>\n",
       "      <td>47147</td>\n",
       "      <td>Robertson</td>\n",
       "      <td>06</td>\n",
       "      <td>1233581423</td>\n",
       "      <td>451691</td>\n",
       "      <td>POLYGON ((-87.11566 36.64403, -87.06088 36.645...</td>\n",
       "    </tr>\n",
       "    <tr>\n",
       "      <th>4</th>\n",
       "      <td>None</td>\n",
       "      <td>47</td>\n",
       "      <td>067</td>\n",
       "      <td>01648577</td>\n",
       "      <td>0500000US47067</td>\n",
       "      <td>47067</td>\n",
       "      <td>Hancock</td>\n",
       "      <td>06</td>\n",
       "      <td>575820509</td>\n",
       "      <td>2984310</td>\n",
       "      <td>POLYGON ((-83.47199 36.59917, -83.27585 36.597...</td>\n",
       "    </tr>\n",
       "  </tbody>\n",
       "</table>\n",
       "</div>"
      ],
      "text/plain": [
       "     id STATEFP COUNTYFP  COUNTYNS        AFFGEOID  GEOID       NAME LSAD  \\\n",
       "0  None      47      003  01639723  0500000US47003  47003    Bedford   06   \n",
       "1  None      47      119  01639772  0500000US47119  47119      Maury   06   \n",
       "2  None      47      177  01639796  0500000US47177  47177     Warren   06   \n",
       "3  None      47      147  01639786  0500000US47147  47147  Robertson   06   \n",
       "4  None      47      067  01648577  0500000US47067  47067    Hancock   06   \n",
       "\n",
       "        ALAND   AWATER                                           geometry  \n",
       "0  1226717421  2983130  POLYGON ((-86.63855 35.68695, -86.54313 35.698...  \n",
       "1  1588021146  6319196  POLYGON ((-87.33831 35.65954, -87.25526 35.700...  \n",
       "2  1120635693  3508325  POLYGON ((-85.88579 35.83899, -85.86812 35.845...  \n",
       "3  1233581423   451691  POLYGON ((-87.11566 36.64403, -87.06088 36.645...  \n",
       "4   575820509  2984310  POLYGON ((-83.47199 36.59917, -83.27585 36.597...  "
      ]
     },
     "execution_count": 26,
     "metadata": {},
     "output_type": "execute_result"
    }
   ],
   "source": [
    "counties = gpd.read_file('../data/tn_counties.json')\n",
    "counties.head()"
   ]
  },
  {
   "cell_type": "code",
   "execution_count": 27,
   "metadata": {},
   "outputs": [
    {
     "data": {
      "text/plain": [
       "(95, 11)"
      ]
     },
     "execution_count": 27,
     "metadata": {},
     "output_type": "execute_result"
    }
   ],
   "source": [
    "counties.shape"
   ]
  },
  {
   "cell_type": "code",
   "execution_count": 28,
   "metadata": {},
   "outputs": [
    {
     "data": {
      "text/plain": [
       "<AxesSubplot:>"
      ]
     },
     "execution_count": 28,
     "metadata": {},
     "output_type": "execute_result"
    },
    {
     "data": {
      "image/png": "[encoded data removed]",
      "text/plain": [
       "<Figure size 432x288 with 1 Axes>"
      ]
     },
     "metadata": {
      "needs_background": "light"
     },
     "output_type": "display_data"
    }
   ],
   "source": [
    "counties.plot()"
   ]
  },
  {
   "cell_type": "code",
   "execution_count": 29,
   "metadata": {},
   "outputs": [
    {
     "data": {
      "text/html": [
       "<div>\n",
       "<style scoped>\n",
       "    .dataframe tbody tr th:only-of-type {\n",
       "        vertical-align: middle;\n",
       "    }\n",
       "\n",
       "    .dataframe tbody tr th {\n",
       "        vertical-align: top;\n",
       "    }\n",
       "\n",
       "    .dataframe thead th {\n",
       "        text-align: right;\n",
       "    }\n",
       "</style>\n",
       "<table border=\"1\" class=\"dataframe\">\n",
       "  <thead>\n",
       "    <tr style=\"text-align: right;\">\n",
       "      <th></th>\n",
       "      <th>LocationID</th>\n",
       "      <th>Category</th>\n",
       "      <th>AADT</th>\n",
       "      <th>AADT_Year</th>\n",
       "      <th>Latitude</th>\n",
       "      <th>Longitude</th>\n",
       "      <th>geometry</th>\n",
       "    </tr>\n",
       "  </thead>\n",
       "  <tbody>\n",
       "    <tr>\n",
       "      <th>0</th>\n",
       "      <td>1000005</td>\n",
       "      <td>CC</td>\n",
       "      <td>395.0</td>\n",
       "      <td>2019.0</td>\n",
       "      <td>36.126099</td>\n",
       "      <td>-84.416817</td>\n",
       "      <td>POINT (-84.41681700000001 36.126099)</td>\n",
       "    </tr>\n",
       "    <tr>\n",
       "      <th>1</th>\n",
       "      <td>1000007</td>\n",
       "      <td>CC</td>\n",
       "      <td>1916.0</td>\n",
       "      <td>2019.0</td>\n",
       "      <td>36.191066</td>\n",
       "      <td>-84.181373</td>\n",
       "      <td>POINT (-84.18137299999999 36.191066)</td>\n",
       "    </tr>\n",
       "    <tr>\n",
       "      <th>2</th>\n",
       "      <td>1000008</td>\n",
       "      <td>CC</td>\n",
       "      <td>3519.0</td>\n",
       "      <td>2019.0</td>\n",
       "      <td>36.218138</td>\n",
       "      <td>-84.162139</td>\n",
       "      <td>POINT (-84.162139 36.218138)</td>\n",
       "    </tr>\n",
       "    <tr>\n",
       "      <th>3</th>\n",
       "      <td>1000010</td>\n",
       "      <td>CC</td>\n",
       "      <td>2348.0</td>\n",
       "      <td>2019.0</td>\n",
       "      <td>36.228584</td>\n",
       "      <td>-84.155918</td>\n",
       "      <td>POINT (-84.155918 36.22858400000001)</td>\n",
       "    </tr>\n",
       "    <tr>\n",
       "      <th>4</th>\n",
       "      <td>1000011</td>\n",
       "      <td>CC</td>\n",
       "      <td>8840.0</td>\n",
       "      <td>2019.0</td>\n",
       "      <td>36.214983</td>\n",
       "      <td>-84.152704</td>\n",
       "      <td>POINT (-84.152704 36.214983)</td>\n",
       "    </tr>\n",
       "  </tbody>\n",
       "</table>\n",
       "</div>"
      ],
      "text/plain": [
       "   LocationID Category    AADT  AADT_Year   Latitude  Longitude  \\\n",
       "0     1000005       CC   395.0     2019.0  36.126099 -84.416817   \n",
       "1     1000007       CC  1916.0     2019.0  36.191066 -84.181373   \n",
       "2     1000008       CC  3519.0     2019.0  36.218138 -84.162139   \n",
       "3     1000010       CC  2348.0     2019.0  36.228584 -84.155918   \n",
       "4     1000011       CC  8840.0     2019.0  36.214983 -84.152704   \n",
       "\n",
       "                               geometry  \n",
       "0  POINT (-84.41681700000001 36.126099)  \n",
       "1  POINT (-84.18137299999999 36.191066)  \n",
       "2          POINT (-84.162139 36.218138)  \n",
       "3  POINT (-84.155918 36.22858400000001)  \n",
       "4          POINT (-84.152704 36.214983)  "
      ]
     },
     "execution_count": 29,
     "metadata": {},
     "output_type": "execute_result"
    }
   ],
   "source": [
    "tv_2019['geometry'] = tv_2019.apply(lambda x: Point((float(x.Longitude), \n",
    "                                                         float(x.Latitude))), \n",
    "                                        axis=1)\n",
    "tv_2019.head()"
   ]
  },
  {
   "cell_type": "code",
   "execution_count": 30,
   "metadata": {},
   "outputs": [],
   "source": [
    "tv_geo = gpd.GeoDataFrame(tv_2019, \n",
    "                           crs = counties.crs, \n",
    "                           geometry = tv_2019['geometry'])"
   ]
  },
  {
   "cell_type": "code",
   "execution_count": 31,
   "metadata": {},
   "outputs": [
    {
     "data": {
      "text/html": [
       "<div>\n",
       "<style scoped>\n",
       "    .dataframe tbody tr th:only-of-type {\n",
       "        vertical-align: middle;\n",
       "    }\n",
       "\n",
       "    .dataframe tbody tr th {\n",
       "        vertical-align: top;\n",
       "    }\n",
       "\n",
       "    .dataframe thead th {\n",
       "        text-align: right;\n",
       "    }\n",
       "</style>\n",
       "<table border=\"1\" class=\"dataframe\">\n",
       "  <thead>\n",
       "    <tr style=\"text-align: right;\">\n",
       "      <th></th>\n",
       "      <th>county</th>\n",
       "      <th>geometry</th>\n",
       "    </tr>\n",
       "  </thead>\n",
       "  <tbody>\n",
       "    <tr>\n",
       "      <th>0</th>\n",
       "      <td>Bedford</td>\n",
       "      <td>POLYGON ((-86.63855 35.68695, -86.54313 35.698...</td>\n",
       "    </tr>\n",
       "    <tr>\n",
       "      <th>1</th>\n",
       "      <td>Maury</td>\n",
       "      <td>POLYGON ((-87.33831 35.65954, -87.25526 35.700...</td>\n",
       "    </tr>\n",
       "    <tr>\n",
       "      <th>2</th>\n",
       "      <td>Warren</td>\n",
       "      <td>POLYGON ((-85.88579 35.83899, -85.86812 35.845...</td>\n",
       "    </tr>\n",
       "    <tr>\n",
       "      <th>3</th>\n",
       "      <td>Robertson</td>\n",
       "      <td>POLYGON ((-87.11566 36.64403, -87.06088 36.645...</td>\n",
       "    </tr>\n",
       "    <tr>\n",
       "      <th>4</th>\n",
       "      <td>Hancock</td>\n",
       "      <td>POLYGON ((-83.47199 36.59917, -83.27585 36.597...</td>\n",
       "    </tr>\n",
       "  </tbody>\n",
       "</table>\n",
       "</div>"
      ],
      "text/plain": [
       "      county                                           geometry\n",
       "0    Bedford  POLYGON ((-86.63855 35.68695, -86.54313 35.698...\n",
       "1      Maury  POLYGON ((-87.33831 35.65954, -87.25526 35.700...\n",
       "2     Warren  POLYGON ((-85.88579 35.83899, -85.86812 35.845...\n",
       "3  Robertson  POLYGON ((-87.11566 36.64403, -87.06088 36.645...\n",
       "4    Hancock  POLYGON ((-83.47199 36.59917, -83.27585 36.597..."
      ]
     },
     "execution_count": 31,
     "metadata": {},
     "output_type": "execute_result"
    }
   ],
   "source": [
    "counties = counties[['NAME', 'geometry']]\n",
    "counties.columns = ['county', 'geometry']\n",
    "counties.head()"
   ]
  },
  {
   "cell_type": "code",
   "execution_count": 32,
   "metadata": {},
   "outputs": [
    {
     "data": {
      "text/html": [
       "<div>\n",
       "<style scoped>\n",
       "    .dataframe tbody tr th:only-of-type {\n",
       "        vertical-align: middle;\n",
       "    }\n",
       "\n",
       "    .dataframe tbody tr th {\n",
       "        vertical-align: top;\n",
       "    }\n",
       "\n",
       "    .dataframe thead th {\n",
       "        text-align: right;\n",
       "    }\n",
       "</style>\n",
       "<table border=\"1\" class=\"dataframe\">\n",
       "  <thead>\n",
       "    <tr style=\"text-align: right;\">\n",
       "      <th></th>\n",
       "      <th>LocationID</th>\n",
       "      <th>Category</th>\n",
       "      <th>AADT</th>\n",
       "      <th>AADT_Year</th>\n",
       "      <th>Latitude</th>\n",
       "      <th>Longitude</th>\n",
       "      <th>geometry</th>\n",
       "      <th>index_right</th>\n",
       "      <th>county</th>\n",
       "    </tr>\n",
       "  </thead>\n",
       "  <tbody>\n",
       "    <tr>\n",
       "      <th>0</th>\n",
       "      <td>1000005</td>\n",
       "      <td>CC</td>\n",
       "      <td>395.0</td>\n",
       "      <td>2019.0</td>\n",
       "      <td>36.126099</td>\n",
       "      <td>-84.416817</td>\n",
       "      <td>POINT (-84.41682 36.12610)</td>\n",
       "      <td>72</td>\n",
       "      <td>Anderson</td>\n",
       "    </tr>\n",
       "    <tr>\n",
       "      <th>1</th>\n",
       "      <td>1000007</td>\n",
       "      <td>CC</td>\n",
       "      <td>1916.0</td>\n",
       "      <td>2019.0</td>\n",
       "      <td>36.191066</td>\n",
       "      <td>-84.181373</td>\n",
       "      <td>POINT (-84.18137 36.19107)</td>\n",
       "      <td>72</td>\n",
       "      <td>Anderson</td>\n",
       "    </tr>\n",
       "    <tr>\n",
       "      <th>2</th>\n",
       "      <td>1000008</td>\n",
       "      <td>CC</td>\n",
       "      <td>3519.0</td>\n",
       "      <td>2019.0</td>\n",
       "      <td>36.218138</td>\n",
       "      <td>-84.162139</td>\n",
       "      <td>POINT (-84.16214 36.21814)</td>\n",
       "      <td>72</td>\n",
       "      <td>Anderson</td>\n",
       "    </tr>\n",
       "    <tr>\n",
       "      <th>3</th>\n",
       "      <td>1000010</td>\n",
       "      <td>CC</td>\n",
       "      <td>2348.0</td>\n",
       "      <td>2019.0</td>\n",
       "      <td>36.228584</td>\n",
       "      <td>-84.155918</td>\n",
       "      <td>POINT (-84.15592 36.22858)</td>\n",
       "      <td>72</td>\n",
       "      <td>Anderson</td>\n",
       "    </tr>\n",
       "    <tr>\n",
       "      <th>4</th>\n",
       "      <td>1000011</td>\n",
       "      <td>CC</td>\n",
       "      <td>8840.0</td>\n",
       "      <td>2019.0</td>\n",
       "      <td>36.214983</td>\n",
       "      <td>-84.152704</td>\n",
       "      <td>POINT (-84.15270 36.21498)</td>\n",
       "      <td>72</td>\n",
       "      <td>Anderson</td>\n",
       "    </tr>\n",
       "  </tbody>\n",
       "</table>\n",
       "</div>"
      ],
      "text/plain": [
       "   LocationID Category    AADT  AADT_Year   Latitude  Longitude  \\\n",
       "0     1000005       CC   395.0     2019.0  36.126099 -84.416817   \n",
       "1     1000007       CC  1916.0     2019.0  36.191066 -84.181373   \n",
       "2     1000008       CC  3519.0     2019.0  36.218138 -84.162139   \n",
       "3     1000010       CC  2348.0     2019.0  36.228584 -84.155918   \n",
       "4     1000011       CC  8840.0     2019.0  36.214983 -84.152704   \n",
       "\n",
       "                     geometry  index_right    county  \n",
       "0  POINT (-84.41682 36.12610)           72  Anderson  \n",
       "1  POINT (-84.18137 36.19107)           72  Anderson  \n",
       "2  POINT (-84.16214 36.21814)           72  Anderson  \n",
       "3  POINT (-84.15592 36.22858)           72  Anderson  \n",
       "4  POINT (-84.15270 36.21498)           72  Anderson  "
      ]
     },
     "execution_count": 32,
     "metadata": {},
     "output_type": "execute_result"
    }
   ],
   "source": [
    "tv_by_county = gpd.sjoin(tv_geo, counties, op = 'within')\n",
    "tv_by_county.head()"
   ]
  },
  {
   "cell_type": "code",
   "execution_count": 35,
   "metadata": {},
   "outputs": [
    {
     "data": {
      "text/plain": [
       "34    923\n",
       "54    551\n",
       "48    529\n",
       "21    457\n",
       "43    274\n",
       "     ... \n",
       "8      34\n",
       "68     33\n",
       "46     33\n",
       "80     33\n",
       "4      30\n",
       "Name: index_right, Length: 95, dtype: int64"
      ]
     },
     "execution_count": 35,
     "metadata": {},
     "output_type": "execute_result"
    }
   ],
   "source": [
    "tv_by_county['index_right'].value_counts()"
   ]
  },
  {
   "cell_type": "code",
   "execution_count": null,
   "metadata": {},
   "outputs": [],
   "source": []
  }
 ],
 "metadata": {
  "kernelspec": {
   "display_name": "Python 3",
   "language": "python",
   "name": "python3"
  },
  "language_info": {
   "codemirror_mode": {
    "name": "ipython",
    "version": 3
   },
   "file_extension": ".py",
   "mimetype": "text/x-python",
   "name": "python",
   "nbconvert_exporter": "python",
   "pygments_lexer": "ipython3",
   "version": "3.8.5"
  }
 },
 "nbformat": 4,
 "nbformat_minor": 4
}
